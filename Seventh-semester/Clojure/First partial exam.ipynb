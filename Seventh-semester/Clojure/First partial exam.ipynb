{
 "cells": [
  {
   "cell_type": "markdown",
   "id": "ac7a2e68",
   "metadata": {},
   "source": [
    "# Question 1\n",
    "\n",
    "Write a function, in clojure, that converts a decimal-based number n to its binary-based equivalent. A systematic method of converting decimal integers to binary is the process of successive division by 2. For example, to convert the decimal number 12 to binary, we start by dividing 12 by 2. Then each resulting quotient is divided by 2 until we obtain a quotient whose integer part is 0. The remainders generated in each division form the binary number. The first remainder is the least significant bit (LSB) and the last remainder is the most significant bit (MSB) of the binary number. The output is a list with the corresponding binary number.\n",
    "\n",
    "**Note: use tail-recursion, lazy-seq, threading macros, etc. Not clojure built-in functions.**"
   ]
  },
  {
   "cell_type": "code",
   "execution_count": 1,
   "id": "e43a4886",
   "metadata": {},
   "outputs": [
    {
     "data": {
      "text/plain": [
       "#'user/toBinary"
      ]
     },
     "execution_count": 1,
     "metadata": {},
     "output_type": "execute_result"
    }
   ],
   "source": [
    "(defn toBinary [n] \n",
    "    (loop [res '() x n]\n",
    "        (if (= x 0)\n",
    "            res\n",
    "            (recur (conj res (rem x 2)) (quot x 2))\n",
    "        )\n",
    "    )\n",
    ")"
   ]
  },
  {
   "cell_type": "code",
   "execution_count": 2,
   "id": "e86a52c5",
   "metadata": {},
   "outputs": [
    {
     "data": {
      "text/plain": [
       "(1 1 0 0)"
      ]
     },
     "execution_count": 2,
     "metadata": {},
     "output_type": "execute_result"
    }
   ],
   "source": [
    "(toBinary 12)\n",
    ";; Expected: (1 1 0 0)"
   ]
  },
  {
   "cell_type": "code",
   "execution_count": 3,
   "id": "4c84427c",
   "metadata": {},
   "outputs": [
    {
     "data": {
      "text/plain": [
       "(1 1)"
      ]
     },
     "execution_count": 3,
     "metadata": {},
     "output_type": "execute_result"
    }
   ],
   "source": [
    "(toBinary 3)\n",
    ";; Expected: (1 1)"
   ]
  },
  {
   "cell_type": "code",
   "execution_count": 4,
   "id": "d442efeb",
   "metadata": {},
   "outputs": [
    {
     "data": {
      "text/plain": [
       "(1 0 1 0 0 1 0)"
      ]
     },
     "execution_count": 4,
     "metadata": {},
     "output_type": "execute_result"
    }
   ],
   "source": [
    "(toBinary 82) \n",
    ";; Expected: (1 0 1 0 0 1 0)"
   ]
  },
  {
   "cell_type": "markdown",
   "id": "3cfff7c8",
   "metadata": {},
   "source": [
    "# Question 2\n",
    "\n",
    "Write a function, in clojure, that given an integer \"n\", returns true if it is a power of two. Otherwise it returns false. An integer n is a power of two, if there exists an integer x such that n == 2<sup>x</sup>."
   ]
  },
  {
   "cell_type": "code",
   "execution_count": 1,
   "id": "3f5e7276",
   "metadata": {},
   "outputs": [
    {
     "data": {
      "text/plain": [
       "#'user/isPowerOfTwo"
      ]
     },
     "execution_count": 1,
     "metadata": {},
     "output_type": "execute_result"
    }
   ],
   "source": [
    "(defn isPowerOfTwo [n]\n",
    "    (loop [x n res 0]\n",
    "        (if (<= x 1)\n",
    "            (if (= res 0) true false)\n",
    "            (recur (quot x 2) (+ res (mod x 2)))\n",
    "        )\n",
    "    )\n",
    ")"
   ]
  },
  {
   "cell_type": "code",
   "execution_count": 3,
   "id": "5c1cc67e",
   "metadata": {},
   "outputs": [
    {
     "data": {
      "text/plain": [
       "true"
      ]
     },
     "execution_count": 3,
     "metadata": {},
     "output_type": "execute_result"
    }
   ],
   "source": [
    "(isPowerOfTwo 1)\n",
    ";; Expected: true"
   ]
  },
  {
   "cell_type": "code",
   "execution_count": 4,
   "id": "a7959a79",
   "metadata": {},
   "outputs": [
    {
     "data": {
      "text/plain": [
       "false"
      ]
     },
     "execution_count": 4,
     "metadata": {},
     "output_type": "execute_result"
    }
   ],
   "source": [
    "(isPowerOfTwo 3)\n",
    ";; Expected: false"
   ]
  },
  {
   "cell_type": "code",
   "execution_count": 5,
   "id": "cb9c2950",
   "metadata": {},
   "outputs": [
    {
     "data": {
      "text/plain": [
       "true"
      ]
     },
     "execution_count": 5,
     "metadata": {},
     "output_type": "execute_result"
    }
   ],
   "source": [
    "(isPowerOfTwo 16)\n",
    ";; Expected: true"
   ]
  }
 ],
 "metadata": {
  "kernelspec": {
   "display_name": "Clojure (clojupyter=0.3.2=1)",
   "language": "clojure",
   "name": "conda-clojupyter"
  },
  "language_info": {
   "file_extension": ".clj",
   "mimetype": "text/x-clojure",
   "name": "clojure",
   "version": "1.10.1"
  }
 },
 "nbformat": 4,
 "nbformat_minor": 5
}
