{
 "cells": [
  {
   "cell_type": "markdown",
   "id": "e9c16846",
   "metadata": {},
   "source": [
    "## Book\n",
    "\n",
    "MLA, 8.ª edición (Modern Language Assoc.)\n",
    "Miller, Alex, et al. Programming Clojure. Vol. Third edition, Pragmatic Bookshelf, 2018.\n",
    "\n",
    "APA, 7.ª edición (American Psychological Assoc.)\n",
    "Miller, A., Halloway, S. D., & Bedra, A. (2018). Programming Clojure: Vol. Third edition. Pragmatic Bookshelf."
   ]
  },
  {
   "cell_type": "markdown",
   "id": "a461a344",
   "metadata": {},
   "source": [
    "# Chapter 1\n",
    "## Division\n"
   ]
  },
  {
   "cell_type": "code",
   "execution_count": 1,
   "id": "2dba77ee",
   "metadata": {},
   "outputs": [
    {
     "data": {
      "text/plain": [
       "22/7"
      ]
     },
     "execution_count": 1,
     "metadata": {},
     "output_type": "execute_result"
    }
   ],
   "source": [
    "(/ 22 7)"
   ]
  },
  {
   "cell_type": "markdown",
   "id": "6a80d6cf",
   "metadata": {},
   "source": [
    "As you can see, Clojure has a built-in ratio type. If what you actually want is decimal division, use a floating-point literal for the dividend:"
   ]
  },
  {
   "cell_type": "code",
   "execution_count": 2,
   "id": "85b017fb",
   "metadata": {},
   "outputs": [
    {
     "data": {
      "text/plain": [
       "3.142857142857143"
      ]
     },
     "execution_count": 2,
     "metadata": {},
     "output_type": "execute_result"
    }
   ],
   "source": [
    "(/ 22.0 7)"
   ]
  },
  {
   "cell_type": "markdown",
   "id": "e9d9c975",
   "metadata": {},
   "source": [
    "If you want to stick to integers, you can get the integer quotient and remainder with **quot** and **rem**:"
   ]
  },
  {
   "cell_type": "code",
   "execution_count": 3,
   "id": "ce4e399a",
   "metadata": {},
   "outputs": [
    {
     "data": {
      "text/plain": [
       "3"
      ]
     },
     "execution_count": 3,
     "metadata": {},
     "output_type": "execute_result"
    }
   ],
   "source": [
    "(quot 22 7)"
   ]
  },
  {
   "cell_type": "code",
   "execution_count": 4,
   "id": "0b5487ad",
   "metadata": {},
   "outputs": [
    {
     "data": {
      "text/plain": [
       "1"
      ]
     },
     "execution_count": 4,
     "metadata": {},
     "output_type": "execute_result"
    }
   ],
   "source": [
    "(rem 22 7)"
   ]
  },
  {
   "cell_type": "markdown",
   "id": "71e298f5",
   "metadata": {},
   "source": [
    "## Collections\n",
    "\n",
    "**Vectors** are sequential, indexed collections."
   ]
  },
  {
   "cell_type": "code",
   "execution_count": 5,
   "id": "7b22145b",
   "metadata": {},
   "outputs": [
    {
     "data": {
      "text/plain": [
       "[1 2 3]"
      ]
     },
     "execution_count": 5,
     "metadata": {},
     "output_type": "execute_result"
    }
   ],
   "source": [
    "[1 2 3]"
   ]
  },
  {
   "cell_type": "markdown",
   "id": "1f6d5c51",
   "metadata": {},
   "source": [
    "**Lists** are sequential collections stored as a linked list. Clojure function calls are represented as lists and evaluated by invoking the first element as the function. Thus (1 2 3) would be interpreted as invoking the function 1 with the arguments 2 and 3. If we want a list to be read and interpreted as data (not evaluated like a function call), we can use the quote special form:"
   ]
  },
  {
   "cell_type": "code",
   "execution_count": 6,
   "id": "fafc381c",
   "metadata": {},
   "outputs": [
    {
     "data": {
      "text/plain": [
       "(1 2 3)"
      ]
     },
     "execution_count": 6,
     "metadata": {},
     "output_type": "execute_result"
    }
   ],
   "source": [
    "'(1 2 3)"
   ]
  },
  {
   "cell_type": "markdown",
   "id": "5613b7ad",
   "metadata": {},
   "source": [
    "**Sets** are unordered collections that do not contain duplicates:\n"
   ]
  },
  {
   "cell_type": "code",
   "execution_count": 7,
   "id": "0729362d",
   "metadata": {},
   "outputs": [
    {
     "data": {
      "text/plain": [
       "#{1 3 2 5}"
      ]
     },
     "execution_count": 7,
     "metadata": {},
     "output_type": "execute_result"
    }
   ],
   "source": [
    "#{1 2 3 5}"
   ]
  },
  {
   "cell_type": "markdown",
   "id": "5af35337",
   "metadata": {},
   "source": [
    "\n",
    "**Maps** are collections of key/value pairs."
   ]
  },
  {
   "cell_type": "code",
   "execution_count": 8,
   "id": "3fe78a49",
   "metadata": {},
   "outputs": [
    {
     "data": {
      "text/plain": [
       "{\"Lisp\" \"McCarthy\", \"Clojure\" \"Hickey\"}"
      ]
     },
     "execution_count": 8,
     "metadata": {},
     "output_type": "execute_result"
    }
   ],
   "source": [
    "{\"Lisp\" \"McCarthy\",\"Clojure\" \"Hickey\"}"
   ]
  },
  {
   "cell_type": "markdown",
   "id": "d64b507c",
   "metadata": {},
   "source": [
    "Any Clojure data structure can be a key in a map. However, the most commonkey type is the Clojure keyword."
   ]
  },
  {
   "cell_type": "code",
   "execution_count": 9,
   "id": "f87c400e",
   "metadata": {},
   "outputs": [
    {
     "data": {
      "text/plain": [
       ":foo"
      ]
     },
     "execution_count": 9,
     "metadata": {},
     "output_type": "execute_result"
    }
   ],
   "source": [
    ":foo"
   ]
  },
  {
   "cell_type": "markdown",
   "id": "137005be",
   "metadata": {},
   "source": [
    "The fact that keywords resolve to themselves makes keywords useful as keys."
   ]
  },
  {
   "cell_type": "code",
   "execution_count": 10,
   "id": "aae52f5e",
   "metadata": {},
   "outputs": [
    {
     "data": {
      "text/plain": [
       "{:Lisp \"McCarthy\", :Clojure \"Hickey\"}"
      ]
     },
     "execution_count": 10,
     "metadata": {},
     "output_type": "execute_result"
    }
   ],
   "source": [
    "{:Lisp \"McCarthy\" :Clojure \"Hickey\"}"
   ]
  },
  {
   "cell_type": "markdown",
   "id": "2f273759",
   "metadata": {},
   "source": [
    "If several maps have keys in common, you can leverage this by creating a record with defrecord, for example, consider using the defrecord to create a Book record:"
   ]
  },
  {
   "cell_type": "code",
   "execution_count": 11,
   "id": "df4b35de",
   "metadata": {},
   "outputs": [
    {
     "data": {
      "text/plain": [
       "user.Book"
      ]
     },
     "execution_count": 11,
     "metadata": {},
     "output_type": "execute_result"
    }
   ],
   "source": [
    "(defrecord Book [title author])"
   ]
  },
  {
   "cell_type": "markdown",
   "id": "15269f37",
   "metadata": {},
   "source": [
    "Then, you can instantiate that record with the ->Book constructor function:"
   ]
  },
  {
   "cell_type": "code",
   "execution_count": 16,
   "id": "f3d63b3c",
   "metadata": {},
   "outputs": [
    {
     "data": {
      "text/plain": [
       "#user.Book{:title \"title\", :author \"author\"}"
      ]
     },
     "execution_count": 16,
     "metadata": {},
     "output_type": "execute_result"
    }
   ],
   "source": [
    "(->Book \"title\" \"author\")"
   ]
  },
  {
   "cell_type": "markdown",
   "id": "a899d7dc",
   "metadata": {},
   "source": [
    "## Booleans\n",
    "\n",
    "A predicate is a function that returns either true or false. In Clojure, it’s common to name predicates with a trailing question mark, for example, true?, false?, nil?,and zero?:"
   ]
  },
  {
   "cell_type": "markdown",
   "id": "3d83663c",
   "metadata": {},
   "source": [
    "(true? expr)\n",
    "(false? expr)\n",
    "(nil? expr)\n",
    "(zero? expr)"
   ]
  },
  {
   "cell_type": "markdown",
   "id": "c4390dfd",
   "metadata": {},
   "source": [
    "## Strings\n",
    "\n",
    "str takes any number of objects, converts them to strings, and concatenates the results into a single string."
   ]
  },
  {
   "cell_type": "code",
   "execution_count": 13,
   "id": "2dbbb6ac",
   "metadata": {},
   "outputs": [
    {
     "data": {
      "text/plain": [
       "\"123\""
      ]
     },
     "execution_count": 13,
     "metadata": {},
     "output_type": "execute_result"
    }
   ],
   "source": [
    "(str 1 2 nil 3)"
   ]
  },
  {
   "cell_type": "markdown",
   "id": "8e383460",
   "metadata": {},
   "source": [
    "## Functions\n",
    "\n",
    "To define your own functions, use defn:\n",
    "\n",
    "<code>(defnname doc-string? attr-map? [params*] prepost-map? body)</code>\n",
    "\n",
    "A greeting function that takes a name and returns a greeting preceded by \"Hello\":"
   ]
  },
  {
   "cell_type": "code",
   "execution_count": 15,
   "id": "c7578a53",
   "metadata": {
    "scrolled": true
   },
   "outputs": [
    {
     "data": {
      "text/plain": [
       "\"Hello, Richie\""
      ]
     },
     "execution_count": 15,
     "metadata": {},
     "output_type": "execute_result"
    }
   ],
   "source": [
    "(defn greeting \"Returns a greeting of the form 'Hello, username.'\" [username] (str \"Hello, \" username))\n",
    "(greeting \"Richie\")"
   ]
  },
  {
   "cell_type": "code",
   "execution_count": 23,
   "id": "60366aea",
   "metadata": {},
   "outputs": [
    {
     "data": {
      "text/plain": [
       "\"Hello, world\""
      ]
     },
     "execution_count": 23,
     "metadata": {},
     "output_type": "execute_result"
    }
   ],
   "source": [
    "(defn greeting \"Returns a greeting of the form 'Hello, username.' Default username is 'world'.\"\n",
    "    ([] (greeting \"world\"))\n",
    "    ([username](str\"Hello, \" username)))\n",
    "(greeting)"
   ]
  },
  {
   "cell_type": "markdown",
   "id": "8b49b23f",
   "metadata": {},
   "source": [
    "You can create a function with variable arity by including an ampersand in the parameter list. Clojure binds the name after the ampersand to a sequence of all the remaining parameters. There may be only one variable arity parameter, and it must be last in the parameter list.The following function allows two people to go on a date with a variable number of chaperones:"
   ]
  },
  {
   "cell_type": "code",
   "execution_count": 26,
   "id": "d7ebddbe",
   "metadata": {},
   "outputs": [
    {
     "name": "stdout",
     "output_type": "stream",
     "text": [
      "Romeo and Juliet went out with 2 chaperones.\r\n"
     ]
    },
    {
     "data": {
      "text/plain": [
       "nil"
      ]
     },
     "execution_count": 26,
     "metadata": {},
     "output_type": "execute_result"
    }
   ],
   "source": [
    "(defn date [person-1 person-2 & chaperones]\n",
    "    (println person-1 \"and\" person-2 \"went out with\" (count chaperones) \"chaperones.\"))\n",
    "    (date \"Romeo\" \"Juliet\" \"Friar Lawrence\" \"Nurse\")"
   ]
  },
  {
   "cell_type": "markdown",
   "id": "01a93c68",
   "metadata": {},
   "source": [
    "## Anonymous Functions"
   ]
  },
  {
   "cell_type": "markdown",
   "id": "c71414ee",
   "metadata": {},
   "source": [
    "The simplest anonymous fn form is the following:\n",
    "\n",
    "<code>(fn [params*] body)</code>"
   ]
  },
  {
   "cell_type": "code",
   "execution_count": 31,
   "id": "2c73467b",
   "metadata": {},
   "outputs": [
    {
     "data": {
      "text/plain": [
       "(\"fine\" \"day\")"
      ]
     },
     "execution_count": 31,
     "metadata": {},
     "output_type": "execute_result"
    }
   ],
   "source": [
    "(require '[clojure.string :as str])\n",
    "(filter(fn [w] (> (count w) 2)) (str/split \"A fine day\"#\"\\W+\"))"
   ]
  },
  {
   "cell_type": "markdown",
   "id": "53f10430",
   "metadata": {},
   "source": [
    "There’s an even shorter reader macro syntax for anonymous functions, using implicit parameter names. The parameters are named %1, %2, and optionally,a final %& to collect the rest of a variable number of arguments. You can also use just % for the first parameter, preferred for single-argument functions.This syntax looks like this:\n",
    "\n",
    "You can rewrite the call to filter with the shorter anonymous form"
   ]
  },
  {
   "cell_type": "code",
   "execution_count": 35,
   "id": "534cc7c5",
   "metadata": {},
   "outputs": [
    {
     "data": {
      "text/plain": [
       "(\"fine\" \"day\")"
      ]
     },
     "execution_count": 35,
     "metadata": {},
     "output_type": "execute_result"
    }
   ],
   "source": [
    "(filter #(> (count %) 2) (str/split \"A fine day it is\"#\"\\W+\"))"
   ]
  },
  {
   "cell_type": "markdown",
   "id": "04725ee0",
   "metadata": {},
   "source": [
    "Creating a function **dynamically** at runtime using anonymous functions."
   ]
  },
  {
   "cell_type": "code",
   "execution_count": 36,
   "id": "0d3b0337",
   "metadata": {},
   "outputs": [
    {
     "data": {
      "text/plain": [
       "#'user/make-greeter"
      ]
     },
     "execution_count": 36,
     "metadata": {},
     "output_type": "execute_result"
    }
   ],
   "source": [
    "(defn make-greeter [greeting-prefix]\n",
    "    (fn [username] (str greeting-prefix \", \" username)))"
   ]
  },
  {
   "cell_type": "markdown",
   "id": "3789cc52",
   "metadata": {},
   "source": [
    "You can use def to name functions created by make-greeter:"
   ]
  },
  {
   "cell_type": "code",
   "execution_count": 37,
   "id": "766709c2",
   "metadata": {},
   "outputs": [
    {
     "data": {
      "text/plain": [
       "#'user/hello-greeting"
      ]
     },
     "execution_count": 37,
     "metadata": {},
     "output_type": "execute_result"
    }
   ],
   "source": [
    "(def hello-greeting (make-greeter \"Hello\"))"
   ]
  },
  {
   "cell_type": "code",
   "execution_count": 38,
   "id": "3780f86d",
   "metadata": {},
   "outputs": [
    {
     "data": {
      "text/plain": [
       "#'user/aloha-greeting"
      ]
     },
     "execution_count": 38,
     "metadata": {},
     "output_type": "execute_result"
    }
   ],
   "source": [
    "(def aloha-greeting (make-greeter \"Aloha\"))"
   ]
  },
  {
   "cell_type": "code",
   "execution_count": 39,
   "id": "e9258cc1",
   "metadata": {},
   "outputs": [
    {
     "data": {
      "text/plain": [
       "\"Aloha, Richie\""
      ]
     },
     "execution_count": 39,
     "metadata": {},
     "output_type": "execute_result"
    }
   ],
   "source": [
    "(aloha-greeting \"Richie\")"
   ]
  },
  {
   "cell_type": "markdown",
   "id": "4288bbc0",
   "metadata": {},
   "source": [
    "Moreover, there’s no need to give each greeter a name. You can simply createa greeter and place it in the first (function) slot of a form:"
   ]
  },
  {
   "cell_type": "code",
   "execution_count": 40,
   "id": "068a6852",
   "metadata": {},
   "outputs": [
    {
     "data": {
      "text/plain": [
       "\"Howdy, pardner\""
      ]
     },
     "execution_count": 40,
     "metadata": {},
     "output_type": "execute_result"
    }
   ],
   "source": [
    "((make-greeter \"Howdy\") \"pardner\")"
   ]
  },
  {
   "cell_type": "markdown",
   "id": "37f42821",
   "metadata": {},
   "source": [
    "## Vars, Bindings, and Namespaces"
   ]
  },
  {
   "cell_type": "markdown",
   "id": "275a88e1",
   "metadata": {},
   "source": [
    "In Clojure, a namespaceis a collection of names (symbols) that refer to vars. Each var is bound to a value."
   ]
  },
  {
   "cell_type": "markdown",
   "id": "1cb6d6ef",
   "metadata": {},
   "source": [
    "When you define an object with def or defn, that object is stored in a Clojure **var**. For example, the following def creates a var named user/foo:"
   ]
  },
  {
   "cell_type": "code",
   "execution_count": 42,
   "id": "e31841ef",
   "metadata": {},
   "outputs": [
    {
     "data": {
      "text/plain": [
       "#'user/foo"
      ]
     },
     "execution_count": 42,
     "metadata": {},
     "output_type": "execute_result"
    }
   ],
   "source": [
    "(def foo 10)"
   ]
  },
  {
   "cell_type": "code",
   "execution_count": 43,
   "id": "3f15e051",
   "metadata": {},
   "outputs": [
    {
     "data": {
      "text/plain": [
       "10"
      ]
     },
     "execution_count": 43,
     "metadata": {},
     "output_type": "execute_result"
    }
   ],
   "source": [
    "foo"
   ]
  },
  {
   "cell_type": "markdown",
   "id": "e54c0be2",
   "metadata": {},
   "source": [
    "## Namespaces\n",
    "\n",
    "You can switch namespaces, creating a new one if needed, with in-ns:"
   ]
  },
  {
   "cell_type": "code",
   "execution_count": 46,
   "id": "79af794a",
   "metadata": {},
   "outputs": [
    {
     "data": {
      "text/plain": [
       "#namespace[myapp]"
      ]
     },
     "execution_count": 46,
     "metadata": {},
     "output_type": "execute_result"
    }
   ],
   "source": [
    "(in-ns 'myapp)"
   ]
  },
  {
   "cell_type": "markdown",
   "id": "261b2547",
   "metadata": {},
   "source": [
    "While you’re learning Clojure, you should use the clojure.core namespace whenever you move to a new namespace, making Clojure’s core functions available in the new namespace as well:"
   ]
  },
  {
   "cell_type": "code",
   "execution_count": 47,
   "id": "2fe95b85",
   "metadata": {},
   "outputs": [
    {
     "data": {
      "text/plain": [
       "nil"
      ]
     },
     "execution_count": 47,
     "metadata": {},
     "output_type": "execute_result"
    }
   ],
   "source": [
    "(clojure.core/use 'clojure.core)"
   ]
  },
  {
   "cell_type": "code",
   "execution_count": 48,
   "id": "4a01f414",
   "metadata": {
    "scrolled": true
   },
   "outputs": [
    {
     "data": {
      "text/plain": [
       "#namespace[user]"
      ]
     },
     "execution_count": 48,
     "metadata": {},
     "output_type": "execute_result"
    }
   ],
   "source": [
    "(in-ns 'user)"
   ]
  },
  {
   "cell_type": "markdown",
   "id": "7e0a5561",
   "metadata": {},
   "source": [
    "## Destructuring"
   ]
  },
  {
   "cell_type": "markdown",
   "id": "d961c808",
   "metadata": {},
   "source": [
    "Just as you can use a map to destructure any associative collection, you can\n",
    "use a vector to destructure any sequential collection."
   ]
  },
  {
   "cell_type": "code",
   "execution_count": 4,
   "id": "fa7d941f",
   "metadata": {},
   "outputs": [
    {
     "data": {
      "text/plain": [
       "[1 2]"
      ]
     },
     "execution_count": 4,
     "metadata": {},
     "output_type": "execute_result"
    }
   ],
   "source": [
    "(let [[x y] [1 2 3]] [x y] )"
   ]
  },
  {
   "cell_type": "markdown",
   "id": "9a64b4c8",
   "metadata": {},
   "source": [
    "The underscore (_) is a legal symbol and is often used to indicate, “I don’t care\n",
    "about this binding.” Binding proceeds from left to right, so the _ is actually\n",
    "bound twice:"
   ]
  },
  {
   "cell_type": "code",
   "execution_count": 3,
   "id": "0cbd46ee",
   "metadata": {},
   "outputs": [
    {
     "data": {
      "text/plain": [
       "3"
      ]
     },
     "execution_count": 3,
     "metadata": {},
     "output_type": "execute_result"
    }
   ],
   "source": [
    "(let [[_ _ z] [1 2 3]] z )"
   ]
  },
  {
   "cell_type": "markdown",
   "id": "0f303fab",
   "metadata": {},
   "source": [
    "It’s also possible to simultaneously bind both a collection and elements\n",
    "within the collection. Inside a destructuring expression, an :as clause gives\n",
    "you a binding for the entire enclosing structure. For example, you could\n",
    "capture the x and y coordinates individually, plus the entire collection as\n",
    "coords, to report the total number of dimensions:"
   ]
  },
  {
   "cell_type": "code",
   "execution_count": 5,
   "id": "8c017ecc",
   "metadata": {},
   "outputs": [
    {
     "data": {
      "text/plain": [
       "\"x: 1, y: 2, total dimensions 6\""
      ]
     },
     "execution_count": 5,
     "metadata": {},
     "output_type": "execute_result"
    }
   ],
   "source": [
    "(let [[x y :as coords] [1 2 3 4 5 6]]\n",
    "(str \"x: \" x \", y: \" y \", total dimensions \" (count coords)))"
   ]
  },
  {
   "cell_type": "markdown",
   "id": "e3638e1d",
   "metadata": {},
   "source": [
    "## Recur with loop/recur"
   ]
  },
  {
   "cell_type": "markdown",
   "id": "811694e5",
   "metadata": {},
   "source": [
    "The loop special form works like let, establishing bindings and then evaluating\n",
    "exprs. The difference is that loop sets a recursion point, which can then be targeted by the recur special form:\n",
    "\n",
    "(recur exprs*)\n",
    "\n",
    "recur binds new values for loop’s bindings and returns control to the top of the\n",
    "loop. For example, the following loop/recur returns a countdown:"
   ]
  },
  {
   "cell_type": "code",
   "execution_count": 6,
   "id": "7355166e",
   "metadata": {},
   "outputs": [
    {
     "data": {
      "text/plain": [
       "[5 4 3 2 1]"
      ]
     },
     "execution_count": 6,
     "metadata": {},
     "output_type": "execute_result"
    }
   ],
   "source": [
    "(loop [result [] x 5]\n",
    "    (if (zero? x)\n",
    "        result\n",
    "        (recur (conj result x) (dec x))))"
   ]
  },
  {
   "cell_type": "markdown",
   "id": "16436726",
   "metadata": {},
   "source": [
    "# Chapter 2"
   ]
  },
  {
   "cell_type": "markdown",
   "id": "e0365aa3",
   "metadata": {},
   "source": [
    "## Sequences"
   ]
  },
  {
   "cell_type": "markdown",
   "id": "addd92af",
   "metadata": {},
   "source": [
    "conj adds one or more elements to a collection, and into adds all the items in\n",
    "one collection to another. Both conj and into add items at an efficient insertion\n",
    "spot for the underlying data structure. For lists, conj and into add to the front:"
   ]
  },
  {
   "cell_type": "code",
   "execution_count": 8,
   "id": "5515c738",
   "metadata": {},
   "outputs": [
    {
     "data": {
      "text/plain": [
       "(:a 1 2 3)"
      ]
     },
     "execution_count": 8,
     "metadata": {},
     "output_type": "execute_result"
    }
   ],
   "source": [
    "(conj '(1 2 3) :a)"
   ]
  },
  {
   "cell_type": "code",
   "execution_count": 9,
   "id": "4e4897ec",
   "metadata": {},
   "outputs": [
    {
     "data": {
      "text/plain": [
       "(:c :b :a 1 2 3)"
      ]
     },
     "execution_count": 9,
     "metadata": {},
     "output_type": "execute_result"
    }
   ],
   "source": [
    "(into '(1 2 3) '(:a :b :c))"
   ]
  },
  {
   "cell_type": "markdown",
   "id": "3743b19a",
   "metadata": {},
   "source": [
    "For vectors, conj and into add elements to the back:"
   ]
  },
  {
   "cell_type": "code",
   "execution_count": 10,
   "id": "683453ea",
   "metadata": {},
   "outputs": [
    {
     "data": {
      "text/plain": [
       "[1 2 3 :a]"
      ]
     },
     "execution_count": 10,
     "metadata": {},
     "output_type": "execute_result"
    }
   ],
   "source": [
    "(conj [1 2 3] :a)"
   ]
  },
  {
   "cell_type": "code",
   "execution_count": 11,
   "id": "c43ed7c2",
   "metadata": {},
   "outputs": [
    {
     "data": {
      "text/plain": [
       "[1 2 3 :a :b :c]"
      ]
     },
     "execution_count": 11,
     "metadata": {},
     "output_type": "execute_result"
    }
   ],
   "source": [
    "(into [1 2 3] [:a :b :c])"
   ]
  },
  {
   "cell_type": "markdown",
   "id": "d0395bda",
   "metadata": {},
   "source": [
    "## Creating Sequences"
   ]
  },
  {
   "cell_type": "markdown",
   "id": "c6448072",
   "metadata": {},
   "source": [
    "Clojure provides a number of functions that create sequences. range produces\n",
    "a sequence from a start to an end, incrementing by step each time.\n",
    "\n",
    "(range start? end? step?)"
   ]
  },
  {
   "cell_type": "code",
   "execution_count": 13,
   "id": "ee0e140c",
   "metadata": {},
   "outputs": [
    {
     "data": {
      "text/plain": [
       "(1 3 5 7 9 11 13 15 17 19 21 23)"
      ]
     },
     "execution_count": 13,
     "metadata": {},
     "output_type": "execute_result"
    }
   ],
   "source": [
    "(range 1 25 2) ;; step by 2"
   ]
  },
  {
   "cell_type": "code",
   "execution_count": 14,
   "id": "3fb56bf7",
   "metadata": {},
   "outputs": [
    {
     "data": {
      "text/plain": [
       "(0 -0.25 -0.5 -0.75)"
      ]
     },
     "execution_count": 14,
     "metadata": {},
     "output_type": "execute_result"
    }
   ],
   "source": [
    "(range 0 -1 -0.25) ;; negative step"
   ]
  },
  {
   "cell_type": "code",
   "execution_count": 15,
   "id": "998f4705",
   "metadata": {},
   "outputs": [
    {
     "data": {
      "text/plain": [
       "(1/2 3/2 5/2 7/2)"
      ]
     },
     "execution_count": 15,
     "metadata": {},
     "output_type": "execute_result"
    }
   ],
   "source": [
    "(range 1/2 4 1) ;; ratios"
   ]
  },
  {
   "cell_type": "markdown",
   "id": "9bbcf67e",
   "metadata": {},
   "source": [
    "The repeat function repeats an element x n times:\n",
    "\n",
    "(repeat n x)"
   ]
  },
  {
   "cell_type": "code",
   "execution_count": 16,
   "id": "ae84a601",
   "metadata": {},
   "outputs": [
    {
     "data": {
      "text/plain": [
       "(1 1 1 1 1)"
      ]
     },
     "execution_count": 16,
     "metadata": {},
     "output_type": "execute_result"
    }
   ],
   "source": [
    "(repeat 5 1)"
   ]
  },
  {
   "cell_type": "code",
   "execution_count": 17,
   "id": "5aa7eace",
   "metadata": {},
   "outputs": [
    {
     "data": {
      "text/plain": [
       "(\"x\" \"x\" \"x\" \"x\" \"x\" \"x\" \"x\" \"x\" \"x\" \"x\")"
      ]
     },
     "execution_count": 17,
     "metadata": {},
     "output_type": "execute_result"
    }
   ],
   "source": [
    "(repeat 10 \"x\")"
   ]
  },
  {
   "cell_type": "markdown",
   "id": "65fa944b",
   "metadata": {},
   "source": [
    "iterate begins with a value x and continues forever, applying a function f to\n",
    "each value to calculate the next.\n",
    "\n",
    "(iterate f x)\n",
    "\n",
    "If you begin with 1 and iterate with inc, you can generate the whole numbers:"
   ]
  },
  {
   "cell_type": "code",
   "execution_count": 18,
   "id": "b24d0ace",
   "metadata": {},
   "outputs": [
    {
     "data": {
      "text/plain": [
       "(1 2 3 4 5 6 7 8 9 10)"
      ]
     },
     "execution_count": 18,
     "metadata": {},
     "output_type": "execute_result"
    }
   ],
   "source": [
    "(take 10 (iterate inc 1))"
   ]
  },
  {
   "cell_type": "markdown",
   "id": "b117cf14",
   "metadata": {},
   "source": [
    "The cycle function takes a collection and cycles it infinitely:\n",
    "\n",
    "(cycle coll)"
   ]
  },
  {
   "cell_type": "code",
   "execution_count": 19,
   "id": "149122b6",
   "metadata": {},
   "outputs": [
    {
     "data": {
      "text/plain": [
       "(0 1 2 0 1 2 0 1 2 0)"
      ]
     },
     "execution_count": 19,
     "metadata": {},
     "output_type": "execute_result"
    }
   ],
   "source": [
    "(take 10 (cycle (range 3)))"
   ]
  },
  {
   "cell_type": "markdown",
   "id": "a63f5207",
   "metadata": {},
   "source": [
    "The interleave function takes multiple collections and produces a new collection\n",
    "that interleaves values from each collection until one of the collections is\n",
    "exhausted.\n",
    "\n",
    "(interleave & colls)\n",
    "\n",
    "When one of the collections is exhausted, the interleave stops. So, you can mix\n",
    "finite and infinite collections:"
   ]
  },
  {
   "cell_type": "code",
   "execution_count": 21,
   "id": "e2bf2034",
   "metadata": {},
   "outputs": [
    {
     "data": {
      "text/plain": [
       "(1 \"A\" 2 \"B\" 3 \"C\" 4 \"D\" 5 \"E\")"
      ]
     },
     "execution_count": 21,
     "metadata": {},
     "output_type": "execute_result"
    }
   ],
   "source": [
    "(interleave (iterate inc 1) [\"A\" \"B\" \"C\" \"D\" \"E\"])"
   ]
  },
  {
   "cell_type": "markdown",
   "id": "bb3a53b7",
   "metadata": {},
   "source": [
    "Closely related to interleave is interpose, which returns a sequence with each of\n",
    "the elements of the input collection segregated by a separator:\n",
    "\n",
    "(interpose separator coll)\n",
    "\n",
    "You can use interpose to build delimited strings:"
   ]
  },
  {
   "cell_type": "code",
   "execution_count": 22,
   "id": "37ffd1bd",
   "metadata": {},
   "outputs": [
    {
     "data": {
      "text/plain": [
       "(\"apples\" \",\" \"bananas\" \",\" \"grapes\")"
      ]
     },
     "execution_count": 22,
     "metadata": {},
     "output_type": "execute_result"
    }
   ],
   "source": [
    "(interpose \",\" [\"apples\" \"bananas\" \"grapes\"])"
   ]
  },
  {
   "cell_type": "markdown",
   "id": "56e4b9c6",
   "metadata": {},
   "source": [
    "interpose works nicely with (apply str ...) to produce output strings:"
   ]
  },
  {
   "cell_type": "code",
   "execution_count": 24,
   "id": "e9a0f871",
   "metadata": {},
   "outputs": [
    {
     "data": {
      "text/plain": [
       "\"apples, bananas, grapes\""
      ]
     },
     "execution_count": 24,
     "metadata": {},
     "output_type": "execute_result"
    }
   ],
   "source": [
    "(apply str (interpose \", \" [\"apples\" \"bananas\" \"grapes\"]))"
   ]
  },
  {
   "cell_type": "markdown",
   "id": "692584b2",
   "metadata": {},
   "source": [
    "The (apply str (interpose separator sequence)) idiom is common enough that Clojure\n",
    "provides a performance-optimized version as clojure.string/join:\n",
    "\n",
    "(join separator sequence)\n",
    "\n",
    "Use clojure.string/join to comma-delimit a list of words:"
   ]
  },
  {
   "cell_type": "code",
   "execution_count": 27,
   "id": "35d549aa",
   "metadata": {},
   "outputs": [
    {
     "data": {
      "text/plain": [
       "\"apples, bananas, grapes\""
      ]
     },
     "execution_count": 27,
     "metadata": {},
     "output_type": "execute_result"
    }
   ],
   "source": [
    "(require '[clojure.string :refer [join]])\n",
    "(join \", \" [\"apples\" \"bananas\" \"grapes\"])"
   ]
  },
  {
   "cell_type": "markdown",
   "id": "4b21c3ad",
   "metadata": {},
   "source": [
    "## Filtering Sequences"
   ]
  },
  {
   "cell_type": "markdown",
   "id": "fbd7d2c8",
   "metadata": {},
   "source": [
    "Clojure provides a number of functions that filter a sequence, returning a\n",
    "subsequence of the original sequence. The most basic of these is filter:\n",
    "\n",
    "(filter pred coll)\n",
    "\n",
    "filter takes a predicate and a collection and returns a sequence of objects for\n",
    "which the filter returns true (when interpreted in a Boolean context). You can filter the whole-numbers from the previous section to get the odd numbers or\n",
    "the even numbers:"
   ]
  },
  {
   "cell_type": "code",
   "execution_count": 28,
   "id": "13551725",
   "metadata": {},
   "outputs": [
    {
     "data": {
      "text/plain": [
       "(2 4 6 8 10 12 14 16 18 20)"
      ]
     },
     "execution_count": 28,
     "metadata": {},
     "output_type": "execute_result"
    }
   ],
   "source": [
    "(take 10 (filter even? (iterate inc 1)))"
   ]
  },
  {
   "cell_type": "code",
   "execution_count": 29,
   "id": "926b261f",
   "metadata": {},
   "outputs": [
    {
     "data": {
      "text/plain": [
       "(1 3 5 7 9 11 13 15 17 19)"
      ]
     },
     "execution_count": 29,
     "metadata": {},
     "output_type": "execute_result"
    }
   ],
   "source": [
    "(take 10 (filter odd? (iterate inc 1)))"
   ]
  },
  {
   "cell_type": "markdown",
   "id": "ad1810cb",
   "metadata": {},
   "source": [
    "You can take from a sequence while a predicate remains true with take-while:\n",
    "\n",
    "(take-while pred coll)\n",
    "\n",
    "For example, to take all the characters in a string up to the first vowel, we\n",
    "can define some useful helper functions:"
   ]
  },
  {
   "cell_type": "code",
   "execution_count": 31,
   "id": "c0cb32f4",
   "metadata": {},
   "outputs": [
    {
     "data": {
      "text/plain": [
       "#'user/consonant?"
      ]
     },
     "execution_count": 31,
     "metadata": {},
     "output_type": "execute_result"
    }
   ],
   "source": [
    "(def vowel? #{\\a\\e\\i\\o\\u})\n",
    "(def consonant? (complement vowel?))"
   ]
  },
  {
   "cell_type": "markdown",
   "id": "c6778ad8",
   "metadata": {},
   "source": [
    "Then use those predicates to take the characters from the string up to the\n",
    "first vowel:"
   ]
  },
  {
   "cell_type": "code",
   "execution_count": 32,
   "id": "90f12f96",
   "metadata": {},
   "outputs": [
    {
     "data": {
      "text/plain": [
       "(\\t \\h)"
      ]
     },
     "execution_count": 32,
     "metadata": {},
     "output_type": "execute_result"
    }
   ],
   "source": [
    "(take-while consonant? \"the-quick-brown-fox\")"
   ]
  },
  {
   "cell_type": "markdown",
   "id": "a07fe981",
   "metadata": {},
   "source": [
    "The opposite of take-while is drop-while:\n",
    "\n",
    "(drop-while pred coll)\n",
    "\n",
    "drop-while drops elements from the beginning of a sequence while a predicate\n",
    "is true and then returns the rest. You could use drop-while to drop all leading\n",
    "non-vowels from a string:"
   ]
  },
  {
   "cell_type": "code",
   "execution_count": 33,
   "id": "a4d70b92",
   "metadata": {},
   "outputs": [
    {
     "data": {
      "text/plain": [
       "(\\e \\- \\q \\u \\i \\c \\k \\- \\b \\r \\o \\w \\n \\- \\f \\o \\x)"
      ]
     },
     "execution_count": 33,
     "metadata": {},
     "output_type": "execute_result"
    }
   ],
   "source": [
    "(drop-while consonant? \"the-quick-brown-fox\")"
   ]
  },
  {
   "cell_type": "markdown",
   "id": "75ca6577",
   "metadata": {},
   "source": [
    "split-at takes an index, and split-with takes a predicate:"
   ]
  },
  {
   "cell_type": "code",
   "execution_count": 34,
   "id": "e4491dca",
   "metadata": {},
   "outputs": [
    {
     "data": {
      "text/plain": [
       "[(0 1 2 3 4) (5 6 7 8 9)]"
      ]
     },
     "execution_count": 34,
     "metadata": {},
     "output_type": "execute_result"
    }
   ],
   "source": [
    "(split-at 5 (range 10))"
   ]
  },
  {
   "cell_type": "code",
   "execution_count": 35,
   "id": "35bb6d4f",
   "metadata": {},
   "outputs": [
    {
     "data": {
      "text/plain": [
       "[(0 2 4 6 8 10) (12 14 16 18)]"
      ]
     },
     "execution_count": 35,
     "metadata": {},
     "output_type": "execute_result"
    }
   ],
   "source": [
    "(split-with #(<= % 10) (range 0 20 2))"
   ]
  },
  {
   "cell_type": "markdown",
   "id": "0463f7e1",
   "metadata": {},
   "source": [
    "## Sequence Predicates\n",
    "\n",
    "Filter functions take a predicate and return a sequence. Closely related are\n",
    "the sequence predicates. A sequence predicate asks how some other predicate\n",
    "applies to every item in a sequence. For example, the every? predicate asks\n",
    "whether some other predicate is true for every element of a sequence.\n",
    "\n",
    "(every? pred coll)"
   ]
  },
  {
   "cell_type": "code",
   "execution_count": 37,
   "id": "56557725",
   "metadata": {},
   "outputs": [
    {
     "data": {
      "text/plain": [
       "true"
      ]
     },
     "execution_count": 37,
     "metadata": {},
     "output_type": "execute_result"
    }
   ],
   "source": [
    "(every? odd? [1 3 5])"
   ]
  },
  {
   "cell_type": "code",
   "execution_count": 38,
   "id": "0343a351",
   "metadata": {},
   "outputs": [
    {
     "data": {
      "text/plain": [
       "false"
      ]
     },
     "execution_count": 38,
     "metadata": {},
     "output_type": "execute_result"
    }
   ],
   "source": [
    "(every? odd? [1 3 5 8])"
   ]
  },
  {
   "cell_type": "markdown",
   "id": "5f30e2cc",
   "metadata": {},
   "source": [
    "## Transforming Sequences\n",
    "\n",
    "Another common transformation is reduce:\n",
    "\n",
    "(reduce f coll)\n",
    "\n",
    "f is a function of two arguments. reduce applies f on the first two elements in\n",
    "coll and then applies f to the result and the third element, and so on. reduce is\n",
    "useful for functions that “total up” a sequence in some way. You can use\n",
    "reduce to add items:"
   ]
  },
  {
   "cell_type": "code",
   "execution_count": 39,
   "id": "5ee63b6e",
   "metadata": {},
   "outputs": [
    {
     "data": {
      "text/plain": [
       "55"
      ]
     },
     "execution_count": 39,
     "metadata": {},
     "output_type": "execute_result"
    }
   ],
   "source": [
    "(reduce + (range 1 11))"
   ]
  },
  {
   "cell_type": "code",
   "execution_count": 40,
   "id": "74eddc6a",
   "metadata": {},
   "outputs": [
    {
     "data": {
      "text/plain": [
       "3628800"
      ]
     },
     "execution_count": 40,
     "metadata": {},
     "output_type": "execute_result"
    }
   ],
   "source": [
    "(reduce * (range 1 11))"
   ]
  },
  {
   "cell_type": "markdown",
   "id": "01c59c7e",
   "metadata": {},
   "source": [
    "You can sort a collection with sort or sort-by:"
   ]
  },
  {
   "cell_type": "code",
   "execution_count": 41,
   "id": "99e64eb8",
   "metadata": {},
   "outputs": [
    {
     "data": {
      "text/plain": [
       "(1 7 11 42)"
      ]
     },
     "execution_count": 41,
     "metadata": {},
     "output_type": "execute_result"
    }
   ],
   "source": [
    "(sort [42 1 7 11])"
   ]
  },
  {
   "cell_type": "code",
   "execution_count": 42,
   "id": "10c22666",
   "metadata": {},
   "outputs": [
    {
     "data": {
      "text/plain": [
       "(1 11 42 7)"
      ]
     },
     "execution_count": 42,
     "metadata": {},
     "output_type": "execute_result"
    }
   ],
   "source": [
    "(sort-by #(.toString %) [42 1 7 11])"
   ]
  },
  {
   "cell_type": "markdown",
   "id": "639811d0",
   "metadata": {},
   "source": [
    "If you don’t want to sort by natural order, you can specify an optional comparison function comp for either sort or sort-by:"
   ]
  },
  {
   "cell_type": "code",
   "execution_count": 43,
   "id": "b8a27486",
   "metadata": {},
   "outputs": [
    {
     "data": {
      "text/plain": [
       "(42 11 7 1)"
      ]
     },
     "execution_count": 43,
     "metadata": {},
     "output_type": "execute_result"
    }
   ],
   "source": [
    "(sort > [42 1 7 11])"
   ]
  }
 ],
 "metadata": {
  "kernelspec": {
   "display_name": "Clojure (clojupyter=0.3.2=1)",
   "language": "clojure",
   "name": "conda-clojupyter"
  },
  "language_info": {
   "file_extension": ".clj",
   "mimetype": "text/x-clojure",
   "name": "clojure",
   "version": "1.10.1"
  }
 },
 "nbformat": 4,
 "nbformat_minor": 5
}
