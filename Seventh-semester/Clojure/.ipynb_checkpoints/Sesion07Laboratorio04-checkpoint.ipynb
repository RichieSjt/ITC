{
 "cells": [
  {
   "cell_type": "markdown",
   "id": "fbbfc6aa",
   "metadata": {},
   "source": [
    "## Laboratorio 4"
   ]
  },
  {
   "cell_type": "markdown",
   "id": "a00d0388",
   "metadata": {},
   "source": [
    "Escribe una función que imprime un vector usando recursión."
   ]
  },
  {
   "cell_type": "code",
   "execution_count": 34,
   "id": "c8654826",
   "metadata": {},
   "outputs": [
    {
     "data": {
      "text/plain": [
       "#'user/imprimeVector"
      ]
     },
     "execution_count": 34,
     "metadata": {},
     "output_type": "execute_result"
    }
   ],
   "source": [
    "(defn imprimeVector[vect] \n",
    "    (if (not (empty? vect))\n",
    "        (do \n",
    "            (println (first vect))\n",
    "            (imprimeVector(rest vect))\n",
    "        )\n",
    "    )\n",
    ")"
   ]
  },
  {
   "cell_type": "code",
   "execution_count": 35,
   "id": "d919cb53",
   "metadata": {},
   "outputs": [
    {
     "name": "stdout",
     "output_type": "stream",
     "text": [
      "1\n",
      "2\n",
      "3\n",
      "4\n",
      "5\n",
      "6\n",
      "7\n",
      "8\n",
      "9\n"
     ]
    },
    {
     "data": {
      "text/plain": [
       "nil"
      ]
     },
     "execution_count": 35,
     "metadata": {},
     "output_type": "execute_result"
    }
   ],
   "source": [
    "(imprimeVector [1 2 3 4 5 6 7 8 9])"
   ]
  },
  {
   "cell_type": "markdown",
   "id": "e262049e",
   "metadata": {},
   "source": [
    "Escribe una función que imprime un vector usando recursión, pero en sentido inverso."
   ]
  },
  {
   "cell_type": "code",
   "execution_count": 36,
   "id": "adf9df46",
   "metadata": {},
   "outputs": [
    {
     "data": {
      "text/plain": [
       "#'user/imprimeVectorReverso"
      ]
     },
     "execution_count": 36,
     "metadata": {},
     "output_type": "execute_result"
    }
   ],
   "source": [
    "(defn imprimeVectorReverso[vect] \n",
    "    (if (not (empty? vect))\n",
    "        (do \n",
    "            (println (last vect))\n",
    "            (imprimeVectorReverso(drop-last vect))\n",
    "        )\n",
    "    )\n",
    ")"
   ]
  },
  {
   "cell_type": "code",
   "execution_count": 37,
   "id": "49f67de6",
   "metadata": {},
   "outputs": [
    {
     "name": "stdout",
     "output_type": "stream",
     "text": [
      "9\n",
      "8\n",
      "7\n",
      "6\n",
      "5\n",
      "4\n",
      "3\n",
      "2\n",
      "1\n"
     ]
    },
    {
     "data": {
      "text/plain": [
       "nil"
      ]
     },
     "execution_count": 37,
     "metadata": {},
     "output_type": "execute_result"
    }
   ],
   "source": [
    "(imprimeVectorReverso [1 2 3 4 5 6 7 8 9])"
   ]
  },
  {
   "cell_type": "markdown",
   "id": "1b289617",
   "metadata": {},
   "source": [
    "Escribe una función que suma todos los elementos de un vector con recursión."
   ]
  },
  {
   "cell_type": "code",
   "execution_count": 40,
   "id": "9c553200",
   "metadata": {},
   "outputs": [
    {
     "data": {
      "text/plain": [
       "#'user/imprimeSumaVector"
      ]
     },
     "execution_count": 40,
     "metadata": {},
     "output_type": "execute_result"
    }
   ],
   "source": [
    "(defn imprimeSumaVector[vect] \n",
    "    (if (empty? vect)\n",
    "        0\n",
    "        (+ (first vect) (imprimeSumaVector(rest vect)))\n",
    "    )\n",
    ")"
   ]
  },
  {
   "cell_type": "code",
   "execution_count": 41,
   "id": "81078a86",
   "metadata": {},
   "outputs": [
    {
     "data": {
      "text/plain": [
       "45"
      ]
     },
     "execution_count": 41,
     "metadata": {},
     "output_type": "execute_result"
    }
   ],
   "source": [
    "(imprimeSumaVector [1 2 3 4 5 6 7 8 9])"
   ]
  },
  {
   "cell_type": "markdown",
   "id": "2709c82f",
   "metadata": {},
   "source": [
    "Escribe una función que calcula el producto de todos los elementos de un vectorcon recursión."
   ]
  },
  {
   "cell_type": "code",
   "execution_count": 42,
   "id": "cf6349ad",
   "metadata": {},
   "outputs": [
    {
     "data": {
      "text/plain": [
       "#'user/imprimeMultiVector"
      ]
     },
     "execution_count": 42,
     "metadata": {},
     "output_type": "execute_result"
    }
   ],
   "source": [
    "(defn imprimeMultiVector[vect] \n",
    "    (if (empty? vect)\n",
    "        1\n",
    "        (* (first vect) (imprimeMultiVector(rest vect)))\n",
    "    )\n",
    ")"
   ]
  },
  {
   "cell_type": "code",
   "execution_count": 43,
   "id": "889ecade",
   "metadata": {},
   "outputs": [
    {
     "data": {
      "text/plain": [
       "24"
      ]
     },
     "execution_count": 43,
     "metadata": {},
     "output_type": "execute_result"
    }
   ],
   "source": [
    "(imprimeMultiVector [1 2 3 4])"
   ]
  },
  {
   "cell_type": "markdown",
   "id": "c8b7e19b",
   "metadata": {},
   "source": [
    "Escribe una función qué implementa la búsqueda secuencial recursivo en un vector."
   ]
  },
  {
   "cell_type": "code",
   "execution_count": 2,
   "id": "506a602e",
   "metadata": {},
   "outputs": [
    {
     "data": {
      "text/plain": [
       "#'user/busquedaVector"
      ]
     },
     "execution_count": 2,
     "metadata": {},
     "output_type": "execute_result"
    }
   ],
   "source": [
    "(defn busquedaVector[vect elemento]\n",
    "    (if (not (empty? vect))\n",
    "        (do\n",
    "            (if (= (first vect) elemento)\n",
    "                true\n",
    "                (busquedaVector(rest vect) elemento)\n",
    "            )\n",
    "        )\n",
    "        false\n",
    "    )\n",
    ")"
   ]
  },
  {
   "cell_type": "code",
   "execution_count": 3,
   "id": "de38c18d",
   "metadata": {},
   "outputs": [
    {
     "data": {
      "text/plain": [
       "true"
      ]
     },
     "execution_count": 3,
     "metadata": {},
     "output_type": "execute_result"
    }
   ],
   "source": [
    "(busquedaVector [1 2 3 4 5 6 7 8 9] 5)"
   ]
  },
  {
   "cell_type": "code",
   "execution_count": 4,
   "id": "ccc7a217",
   "metadata": {},
   "outputs": [
    {
     "data": {
      "text/plain": [
       "false"
      ]
     },
     "execution_count": 4,
     "metadata": {},
     "output_type": "execute_result"
    }
   ],
   "source": [
    "(busquedaVector [1 2 3 4 5 6 7 8 9] 0)"
   ]
  },
  {
   "cell_type": "code",
   "execution_count": null,
   "id": "455c4671",
   "metadata": {},
   "outputs": [],
   "source": []
  }
 ],
 "metadata": {
  "kernelspec": {
   "display_name": "Clojure (clojupyter=0.3.2=1)",
   "language": "clojure",
   "name": "conda-clojupyter"
  },
  "language_info": {
   "file_extension": ".clj",
   "mimetype": "text/x-clojure",
   "name": "clojure",
   "version": "1.10.1"
  }
 },
 "nbformat": 4,
 "nbformat_minor": 5
}
