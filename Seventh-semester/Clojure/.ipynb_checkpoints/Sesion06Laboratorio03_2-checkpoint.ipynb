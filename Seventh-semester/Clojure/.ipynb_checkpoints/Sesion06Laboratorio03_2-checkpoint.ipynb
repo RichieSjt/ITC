{
 "cells": [
  {
   "cell_type": "markdown",
   "id": "1b7e44a9",
   "metadata": {},
   "source": [
    "## Laboratorio 3\n",
    "_Parte 2_"
   ]
  },
  {
   "cell_type": "code",
   "execution_count": 3,
   "id": "06c40da4",
   "metadata": {},
   "outputs": [
    {
     "data": {
      "text/plain": [
       "#'user/sumatoria"
      ]
     },
     "execution_count": 3,
     "metadata": {},
     "output_type": "execute_result"
    }
   ],
   "source": [
    ";;01/05\n",
    "(defn sumatoria [x]\n",
    "    (apply + (map #(/ x %) (range 1 (+ x 1) 1)))\n",
    ")"
   ]
  },
  {
   "cell_type": "code",
   "execution_count": 5,
   "id": "170dff8e",
   "metadata": {},
   "outputs": [
    {
     "data": {
      "text/plain": [
       "137/12"
      ]
     },
     "execution_count": 5,
     "metadata": {},
     "output_type": "execute_result"
    }
   ],
   "source": [
    "(sumatoria 5)"
   ]
  },
  {
   "cell_type": "code",
   "execution_count": 1,
   "id": "71999061",
   "metadata": {},
   "outputs": [
    {
     "data": {
      "text/plain": [
       "#'user/noEntrada"
      ]
     },
     "execution_count": 1,
     "metadata": {},
     "output_type": "execute_result"
    }
   ],
   "source": [
    ";;02/05\n",
    "(defn noEntrada [x y]\n",
    "    (apply + (range (+ x 1) y 1))\n",
    ")"
   ]
  },
  {
   "cell_type": "code",
   "execution_count": 13,
   "id": "843b9129",
   "metadata": {},
   "outputs": [
    {
     "data": {
      "text/plain": [
       "2"
      ]
     },
     "execution_count": 13,
     "metadata": {},
     "output_type": "execute_result"
    }
   ],
   "source": [
    "(noEntrada 1 3)"
   ]
  },
  {
   "cell_type": "code",
   "execution_count": 2,
   "id": "ade6e4e0",
   "metadata": {},
   "outputs": [
    {
     "data": {
      "text/plain": [
       "#'user/positivos"
      ]
     },
     "execution_count": 2,
     "metadata": {},
     "output_type": "execute_result"
    }
   ],
   "source": [
    ";; 03/05\n",
    "(defn positivos [lista]\n",
    "    (filter pos? lista)\n",
    ")"
   ]
  },
  {
   "cell_type": "code",
   "execution_count": 31,
   "id": "02f00110",
   "metadata": {},
   "outputs": [
    {
     "data": {
      "text/plain": [
       "(1 2 3)"
      ]
     },
     "execution_count": 31,
     "metadata": {},
     "output_type": "execute_result"
    }
   ],
   "source": [
    "(positivos '(-1 1 2 3))"
   ]
  },
  {
   "cell_type": "code",
   "execution_count": 36,
   "id": "2adb65ef",
   "metadata": {},
   "outputs": [
    {
     "data": {
      "text/plain": [
       "#'user/pow"
      ]
     },
     "execution_count": 36,
     "metadata": {},
     "output_type": "execute_result"
    }
   ],
   "source": [
    ";; 04/05\n",
    "(defn pow\n",
    "  [a b]\n",
    "  (if (= b 0)\n",
    "      1\n",
    "      (* a (pow a (- b 1)))\n",
    "    )\n",
    " )"
   ]
  },
  {
   "cell_type": "code",
   "execution_count": 38,
   "id": "17cfef60",
   "metadata": {},
   "outputs": [
    {
     "data": {
      "text/plain": [
       "4"
      ]
     },
     "execution_count": 38,
     "metadata": {},
     "output_type": "execute_result"
    }
   ],
   "source": [
    "(pow 2 2)"
   ]
  }
 ],
 "metadata": {
  "kernelspec": {
   "display_name": "Clojure (clojupyter=0.3.2=1)",
   "language": "clojure",
   "name": "conda-clojupyter"
  },
  "language_info": {
   "file_extension": ".clj",
   "mimetype": "text/x-clojure",
   "name": "clojure",
   "version": "1.10.1"
  }
 },
 "nbformat": 4,
 "nbformat_minor": 5
}
