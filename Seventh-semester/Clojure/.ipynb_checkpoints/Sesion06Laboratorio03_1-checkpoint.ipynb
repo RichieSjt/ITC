{
 "cells": [
  {
   "cell_type": "markdown",
   "id": "335dc97a",
   "metadata": {},
   "source": [
    "## Laboratorio 3\n",
    "_Parte 1_"
   ]
  },
  {
   "cell_type": "markdown",
   "id": "9ca68f04",
   "metadata": {},
   "source": [
    "Escribe una función que tome dos entradas y devuelva la suma de los números en un rango entre dos números enteros de entrada, incluidos los dos números de entrada."
   ]
  },
  {
   "cell_type": "code",
   "execution_count": 1,
   "id": "7dce4854",
   "metadata": {},
   "outputs": [
    {
     "data": {
      "text/plain": [
       "#'user/suma"
      ]
     },
     "execution_count": 1,
     "metadata": {},
     "output_type": "execute_result"
    }
   ],
   "source": [
    "(defn sum-range [a b]\n",
    "    (apply + (range a (+ b 1) 1))    \n",
    ")"
   ]
  },
  {
   "cell_type": "code",
   "execution_count": 17,
   "id": "7c448a75",
   "metadata": {},
   "outputs": [
    {
     "name": "stdout",
     "output_type": "stream",
     "text": [
      "Enter value: 1\n",
      "Enter value: 5\n"
     ]
    },
    {
     "data": {
      "text/plain": [
       "15"
      ]
     },
     "execution_count": 17,
     "metadata": {},
     "output_type": "execute_result"
    }
   ],
   "source": [
    "(def a (Integer/parseInt (read-line)))\n",
    "(def b (Integer/parseInt (read-line)))\n",
    "(sum-range a b)"
   ]
  },
  {
   "cell_type": "markdown",
   "id": "628bebcd",
   "metadata": {},
   "source": [
    "Escribe una función que produzca una secuencia de potencias de 2: (1 2 4 8 16…)"
   ]
  },
  {
   "cell_type": "code",
   "execution_count": 22,
   "id": "c2f25d5d",
   "metadata": {},
   "outputs": [
    {
     "data": {
      "text/plain": [
       "#'user/pow-seq"
      ]
     },
     "execution_count": 22,
     "metadata": {},
     "output_type": "execute_result"
    }
   ],
   "source": [
    "(defn pow-seq [limit]\n",
    "    (into ( take (- limit 1) (iterate #(* % 2) 2)) '(1))\n",
    ")"
   ]
  },
  {
   "cell_type": "code",
   "execution_count": 23,
   "id": "403aa7cf",
   "metadata": {},
   "outputs": [
    {
     "data": {
      "text/plain": [
       "(1 2 4 8 16 32 64 128 256 512 1024 2048)"
      ]
     },
     "execution_count": 23,
     "metadata": {},
     "output_type": "execute_result"
    }
   ],
   "source": [
    "(pow-seq 12)"
   ]
  },
  {
   "cell_type": "markdown",
   "id": "0e8395df",
   "metadata": {},
   "source": [
    "Escribe una función que tome una cadena y produzca una secuencia de caracteres sin vocales"
   ]
  },
  {
   "cell_type": "code",
   "execution_count": 8,
   "id": "3e876366",
   "metadata": {},
   "outputs": [
    {
     "data": {
      "text/plain": [
       "#'user/consonants"
      ]
     },
     "execution_count": 8,
     "metadata": {},
     "output_type": "execute_result"
    }
   ],
   "source": [
    "(defn consonants [cadena]\n",
    "    (filter (complement #{\\a \\e \\i \\o \\u}) (seq cadena))\n",
    ")"
   ]
  },
  {
   "cell_type": "code",
   "execution_count": 24,
   "id": "7943056f",
   "metadata": {},
   "outputs": [
    {
     "data": {
      "text/plain": [
       "(\\H \\l \\l)"
      ]
     },
     "execution_count": 24,
     "metadata": {},
     "output_type": "execute_result"
    }
   ],
   "source": [
    "(consonants \"Hello\")"
   ]
  },
  {
   "cell_type": "markdown",
   "id": "87408a4d",
   "metadata": {},
   "source": [
    "Escribe una función que produzca una secuencia: (1 ½ ⅓ ¼…)"
   ]
  },
  {
   "cell_type": "code",
   "execution_count": 4,
   "id": "af1923b1",
   "metadata": {},
   "outputs": [
    {
     "data": {
      "text/plain": [
       "#'user/div"
      ]
     },
     "execution_count": 4,
     "metadata": {},
     "output_type": "execute_result"
    }
   ],
   "source": [
    "(defn div [limit]\n",
    "    (map #(/ 1 %) (range 1 (+ limit 1) 1))\n",
    ")"
   ]
  },
  {
   "cell_type": "code",
   "execution_count": 140,
   "id": "5584ede1",
   "metadata": {},
   "outputs": [
    {
     "data": {
      "text/plain": [
       "(1 1/2 1/3 1/4 1/5)"
      ]
     },
     "execution_count": 140,
     "metadata": {},
     "output_type": "execute_result"
    }
   ],
   "source": [
    "(div 5)"
   ]
  },
  {
   "cell_type": "markdown",
   "id": "e3579cad",
   "metadata": {},
   "source": [
    "Escribe una función que produzca una secuencia: (1 ½ ¼ ⅛…)"
   ]
  },
  {
   "cell_type": "code",
   "execution_count": 5,
   "id": "87b05fea",
   "metadata": {},
   "outputs": [
    {
     "data": {
      "text/plain": [
       "#'user/div2"
      ]
     },
     "execution_count": 5,
     "metadata": {},
     "output_type": "execute_result"
    }
   ],
   "source": [
    "(defn div2 [limit]\n",
    "    ( take limit (iterate #(/ % 2) 1))\n",
    ")"
   ]
  },
  {
   "cell_type": "code",
   "execution_count": 138,
   "id": "f480378e",
   "metadata": {},
   "outputs": [
    {
     "data": {
      "text/plain": [
       "(1 1/2 1/4 1/8 1/16)"
      ]
     },
     "execution_count": 138,
     "metadata": {},
     "output_type": "execute_result"
    }
   ],
   "source": [
    "(div2 5)"
   ]
  }
 ],
 "metadata": {
  "kernelspec": {
   "display_name": "Clojure (clojupyter=0.3.2=1)",
   "language": "clojure",
   "name": "conda-clojupyter"
  },
  "language_info": {
   "file_extension": ".clj",
   "mimetype": "text/x-clojure",
   "name": "clojure",
   "version": "1.10.1"
  }
 },
 "nbformat": 4,
 "nbformat_minor": 5
}
