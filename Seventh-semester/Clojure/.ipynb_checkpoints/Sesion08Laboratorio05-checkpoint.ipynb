{
 "cells": [
  {
   "cell_type": "markdown",
   "id": "3beecf65",
   "metadata": {},
   "source": [
    "# Reto del dragon\n",
    "\n",
    "## Tc2006 Programming Languages\n",
    "Septiembre, 2021.\n",
    "\n",
    "Completa las funciones lazy-seq. Tienes el siguiente código base:"
   ]
  },
  {
   "cell_type": "markdown",
   "id": "bf4d03b1",
   "metadata": {},
   "source": [
    "**1. Crea una secuencia floja de números negativos.**"
   ]
  },
  {
   "cell_type": "code",
   "execution_count": 21,
   "id": "5d3b4178",
   "metadata": {},
   "outputs": [
    {
     "data": {
      "text/plain": [
       "#'user/negativos"
      ]
     },
     "execution_count": 21,
     "metadata": {},
     "output_type": "execute_result"
    }
   ],
   "source": [
    "(defn negativos [] \n",
    "    (lazy-seq (iterate #(- % 1) -1 ))\n",
    ")"
   ]
  },
  {
   "cell_type": "code",
   "execution_count": 22,
   "id": "3ce9f6cf",
   "metadata": {},
   "outputs": [
    {
     "data": {
      "text/plain": [
       "(-1 -2 -3 -4 -5 -6 -7 -8 -9 -10)"
      ]
     },
     "execution_count": 22,
     "metadata": {},
     "output_type": "execute_result"
    }
   ],
   "source": [
    "(take 10 (negativos))"
   ]
  },
  {
   "cell_type": "markdown",
   "id": "fc45af47",
   "metadata": {},
   "source": [
    "**2. Crea una secuencia floja de  un número que se repite infinitamente.**"
   ]
  },
  {
   "cell_type": "code",
   "execution_count": 3,
   "id": "c1a98f80",
   "metadata": {
    "scrolled": true
   },
   "outputs": [
    {
     "data": {
      "text/plain": [
       "#'user/repeticion"
      ]
     },
     "execution_count": 3,
     "metadata": {},
     "output_type": "execute_result"
    }
   ],
   "source": [
    "(defn repeticion[x] \n",
    "    (cons x (lazy-seq (repeticion x)))\n",
    ")"
   ]
  },
  {
   "cell_type": "code",
   "execution_count": 4,
   "id": "833e186d",
   "metadata": {},
   "outputs": [
    {
     "data": {
      "text/plain": [
       "(2 2 2 2 2 2 2 2 2 2)"
      ]
     },
     "execution_count": 4,
     "metadata": {},
     "output_type": "execute_result"
    }
   ],
   "source": [
    "(take 10 (repeticion 2))"
   ]
  },
  {
   "cell_type": "markdown",
   "id": "22144d64",
   "metadata": {},
   "source": [
    "**3. Crea una secuencia floja de  números pares infinitamente.**"
   ]
  },
  {
   "cell_type": "code",
   "execution_count": 17,
   "id": "a196e1a5",
   "metadata": {},
   "outputs": [
    {
     "data": {
      "text/plain": [
       "#'user/pares"
      ]
     },
     "execution_count": 17,
     "metadata": {},
     "output_type": "execute_result"
    }
   ],
   "source": [
    "(defn pares [] \n",
    "    (lazy-seq (iterate #(+ % 2) 0 ))\n",
    ")"
   ]
  },
  {
   "cell_type": "code",
   "execution_count": 18,
   "id": "573087df",
   "metadata": {},
   "outputs": [
    {
     "data": {
      "text/plain": [
       "(0 2 4 6 8 10 12 14 16 18)"
      ]
     },
     "execution_count": 18,
     "metadata": {},
     "output_type": "execute_result"
    }
   ],
   "source": [
    "(take 10 (pares))"
   ]
  },
  {
   "cell_type": "markdown",
   "id": "5b35205d",
   "metadata": {},
   "source": [
    "**4. La función replic toma dos entradas: un número entero n y una lista lst, donde n ≥ 0. Devuelve una nueva lista que replica n veces cada elemento contenido en lst**"
   ]
  },
  {
   "cell_type": "code",
   "execution_count": 33,
   "id": "36cb3753",
   "metadata": {},
   "outputs": [
    {
     "data": {
      "text/plain": [
       "#'user/replic"
      ]
     },
     "execution_count": 33,
     "metadata": {},
     "output_type": "execute_result"
    }
   ],
   "source": [
    "(defn replic [n lst]\n",
    "    (if (empty? lst) \n",
    "        '()\n",
    "        (into (repeat n (first lst)) (lazy-seq(replic n (rest lst))))\n",
    "    )\n",
    ")"
   ]
  },
  {
   "cell_type": "code",
   "execution_count": 41,
   "id": "59fd6ee4",
   "metadata": {},
   "outputs": [
    {
     "data": {
      "text/plain": [
       "(1 1 1 2 2 2 3 3 3)"
      ]
     },
     "execution_count": 41,
     "metadata": {},
     "output_type": "execute_result"
    }
   ],
   "source": [
    "(replic 3 '(3 1 2))"
   ]
  },
  {
   "cell_type": "markdown",
   "id": "684799a5",
   "metadata": {},
   "source": [
    "**5. ¿Cuál es la complejidad de usar lazy-seq?**"
   ]
  },
  {
   "cell_type": "markdown",
   "id": "ceca2bdf",
   "metadata": {},
   "source": [
    "La complejidad de usar lazy-seq depende de los elementos que componen la secuencia."
   ]
  }
 ],
 "metadata": {
  "kernelspec": {
   "display_name": "Clojure (clojupyter=0.3.2=1)",
   "language": "clojure",
   "name": "conda-clojupyter"
  },
  "language_info": {
   "file_extension": ".clj",
   "mimetype": "text/x-clojure",
   "name": "clojure",
   "version": "1.10.1"
  }
 },
 "nbformat": 4,
 "nbformat_minor": 5
}
