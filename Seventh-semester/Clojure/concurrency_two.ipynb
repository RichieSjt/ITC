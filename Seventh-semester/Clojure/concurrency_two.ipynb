{
 "cells": [
  {
   "cell_type": "markdown",
   "metadata": {},
   "source": [
    "\n",
    "# Serie de concurrencia de Clojure.\n",
    "### 1. Vars: indirección, código recargable, enlace raíz, variables dinámicas\n",
    "### 2. atoms: simples, más usados, reintentados, atómicos, descoordinados\n",
    "### 3. refs: punto de venta original, coordinado y sincrónico, pero que rara vez se utiliza hoy en día.\n",
    "### 4. agents: asíncronos, descoordinados, seguros para los efectos secundarios (por ejemplo, registro en el archivo),\n",
    "### se pueden combinar con STM, ejecutarse solo cuando la transacción de referencia se realiza correctamente"
   ]
  },
  {
   "cell_type": "markdown",
   "metadata": {},
   "source": [
    "\n",
    "# Atoms: simple, más utilizado, reintentado, atómico, descoordinado"
   ]
  },
  {
   "cell_type": "code",
   "execution_count": 1,
   "metadata": {},
   "outputs": [
    {
     "data": {
      "text/plain": [
       "[{:name \"Messi\", :scores 0} {:name \"Ronaldo\", :scores 0}]"
      ]
     },
     "execution_count": 1,
     "metadata": {},
     "output_type": "execute_result"
    }
   ],
   "source": [
    "(def goleadores (atom [{:name \"Messi\" :scores 0}  {:name \"Ronaldo\" :scores 0}]))\n",
    "@goleadores"
   ]
  },
  {
   "cell_type": "code",
   "execution_count": 2,
   "metadata": {},
   "outputs": [
    {
     "data": {
      "text/plain": [
       "[{:name \"Messi\", :scores 0} {:name \"Ronaldo\", :scores 0}]"
      ]
     },
     "execution_count": 2,
     "metadata": {},
     "output_type": "execute_result"
    }
   ],
   "source": [
    "(deref goleadores)"
   ]
  },
  {
   "cell_type": "code",
   "execution_count": 4,
   "metadata": {},
   "outputs": [
    {
     "data": {
      "text/plain": [
       "[{:name \"Messi\", :scores 283} {:name \"Ronaldo\", :scores 217}]"
      ]
     },
     "execution_count": 4,
     "metadata": {},
     "output_type": "execute_result"
    }
   ],
   "source": [
    "(dotimes [n 10]\n",
    "(swap! goleadores update-in [0 :scores] + (rand-int 30))\n",
    "(swap! goleadores update-in [1 :scores] + (rand-int 30))\n",
    ")\n",
    "@goleadores"
   ]
  },
  {
   "cell_type": "markdown",
   "metadata": {},
   "source": [
    "\n",
    "# refs: coordinado, sincrónico, punto de inicio original pero rara vez utilizado"
   ]
  },
  {
   "cell_type": "code",
   "execution_count": 22,
   "metadata": {},
   "outputs": [
    {
     "data": {
      "text/plain": [
       "{:t1 0, :t2 0, :t800 1}"
      ]
     },
     "execution_count": 22,
     "metadata": {},
     "output_type": "execute_result"
    }
   ],
   "source": [
    "(def terminators (ref {:t1 0 :t2 0 :t800 1}))\n",
    "@terminators\n"
   ]
  },
  {
   "cell_type": "code",
   "execution_count": 23,
   "metadata": {},
   "outputs": [
    {
     "data": {
      "text/plain": [
       "{:soldier 0, :queen 1}"
      ]
     },
     "execution_count": 23,
     "metadata": {},
     "output_type": "execute_result"
    }
   ],
   "source": [
    "(def aliens (ref {:soldier 0 :queen 1}))\n",
    "@aliens"
   ]
  },
  {
   "cell_type": "code",
   "execution_count": 97,
   "metadata": {},
   "outputs": [
    {
     "data": {
      "text/plain": [
       "{:t1 30, :t2 30, :t800 31}"
      ]
     },
     "execution_count": 97,
     "metadata": {},
     "output_type": "execute_result"
    }
   ],
   "source": [
    "@terminators"
   ]
  },
  {
   "cell_type": "markdown",
   "metadata": {},
   "source": [
    "\n",
    "# Agentes: asíncronos, descoordinados, seguro para efectos secundarios (por ejemplo, registro en archivo), se puede combinar con STM (ejecutado al final)"
   ]
  },
  {
   "cell_type": "code",
   "execution_count": 102,
   "metadata": {},
   "outputs": [
    {
     "data": {
      "text/plain": [
       "#'user/you_got_mail"
      ]
     },
     "execution_count": 102,
     "metadata": {},
     "output_type": "execute_result"
    }
   ],
   "source": [
    "(def you_got_mail (agent []))"
   ]
  },
  {
   "cell_type": "code",
   "execution_count": 103,
   "metadata": {},
   "outputs": [
    {
     "data": {
      "text/plain": [
       "#'user/contador"
      ]
     },
     "execution_count": 103,
     "metadata": {},
     "output_type": "execute_result"
    }
   ],
   "source": [
    "(def contador (ref 0))"
   ]
  },
  {
   "cell_type": "code",
   "execution_count": 109,
   "metadata": {},
   "outputs": [
    {
     "name": "stdout",
     "output_type": "stream",
     "text": [
      "Inicia Update\n",
      "Enviar correo...\n",
      "Updated\n"
     ]
    },
    {
     "data": {
      "text/plain": [
       "nil"
      ]
     },
     "execution_count": 109,
     "metadata": {},
     "output_type": "execute_result"
    }
   ],
   "source": [
    "(dosync\n",
    "         (println \"Inicia Update\")\n",
    " \n",
    "         (send you_got_mail #(do (println \"Enviar correo...\")\n",
    "                                 (conj % (str \"mail\" @contador) )))\n",
    " \n",
    "         (terminators :t4 \"T10000\")\n",
    "         (aliens :alien \"alien\")\n",
    "         (alter contador inc)\n",
    "         (Thread/sleep 3000)\n",
    "         (println \"Updated\"))"
   ]
  },
  {
   "cell_type": "code",
   "execution_count": 110,
   "metadata": {},
   "outputs": [
    {
     "data": {
      "text/plain": [
       "[\"mail1\" \"mail2\" \"mail2\" \"mail2\"]"
      ]
     },
     "execution_count": 110,
     "metadata": {},
     "output_type": "execute_result"
    }
   ],
   "source": [
    "@you_got_mail"
   ]
  },
  {
   "cell_type": "markdown",
   "metadata": {},
   "source": [
    "## Funciones de una agente:\n",
    "1. agent\n",
    "Un agente se crea mediante el comando de agente.\n",
    "\n",
    "2. send\n",
    "Esta función se utiliza para enviar un valor al agente.\n",
    "\n",
    "3. shutdown-agents\n",
    "Esta función se utiliza para apagar cualquier agente en ejecución.\n",
    "\n",
    "4. send-off\n",
    "Hay casos en los que a un agente se le asigna una función que es de naturaleza bloqueante.\n",
    "\n",
    "5. await-off\n",
    "Dado que hay una demora cuando se actualiza un valor de un agente, Clojure proporcionó una función de \"espera\" que se usa para especificar el tiempo en milisegundos para esperar a que se actualice el agente.\n",
    "\n",
    "6. await\n",
    "Bloquea el hilo actual (¡indefinidamente!) Hasta que se hayan realizado todas las acciones despachadas hasta el momento, desde este hilo o agente, al agente (s). Bloqueará a los agentes fallidos.\n",
    "\n",
    "7. agent-error\n",
    "Devuelve la excepción lanzada durante una acción asincrónica del agente, si el agente falla. Devuelve nil si el agente no falla."
   ]
  },
  {
   "cell_type": "markdown",
   "metadata": {},
   "source": [
    "\n",
    "# Vars indirección, código recargable, variables dinámicas.\n",
    "### puedes crear una var dinámica cuyo enlace se puede cambiar.\n"
   ]
  },
  {
   "cell_type": "code",
   "execution_count": 11,
   "metadata": {},
   "outputs": [
    {
     "data": {
      "text/plain": [
       "#'user/batman"
      ]
     },
     "execution_count": 11,
     "metadata": {},
     "output_type": "execute_result"
    }
   ],
   "source": [
    "(def batman \"Primer Batman\")"
   ]
  },
  {
   "cell_type": "code",
   "execution_count": 113,
   "metadata": {},
   "outputs": [
    {
     "data": {
      "text/plain": [
       "\"Primer Batman\""
      ]
     },
     "execution_count": 113,
     "metadata": {},
     "output_type": "execute_result"
    }
   ],
   "source": [
    "batman"
   ]
  },
  {
   "cell_type": "code",
   "execution_count": 12,
   "metadata": {},
   "outputs": [
    {
     "data": {
      "text/plain": [
       "#'user/batman"
      ]
     },
     "execution_count": 12,
     "metadata": {},
     "output_type": "execute_result"
    }
   ],
   "source": [
    "(def ^:dynamic batman \"Adam West\")"
   ]
  },
  {
   "cell_type": "code",
   "execution_count": 13,
   "metadata": {},
   "outputs": [
    {
     "name": "stdout",
     "output_type": "stream",
     "text": [
      "Micheal Keaton\n",
      "Val Kilmer\n",
      "George Clooney\n",
      "Christian Bale\n"
     ]
    },
    {
     "data": {
      "text/plain": [
       "nil"
      ]
     },
     "execution_count": 13,
     "metadata": {},
     "output_type": "execute_result"
    }
   ],
   "source": [
    "(binding [batman \"Micheal Keaton\"]\n",
    "  (println batman)\n",
    "    (Thread/sleep 1000)\n",
    "    \n",
    " (binding [batman \"Val Kilmer\"]\n",
    "  (println batman)\n",
    "    (Thread/sleep 1000))\n",
    " (binding [batman \"George Clooney\"]\n",
    "  (println batman)\n",
    "    (Thread/sleep 1000))    \n",
    "\n",
    "(binding [batman \"Christian Bale\"]\n",
    "  (println batman)\n",
    "    (Thread/sleep 1000))\n",
    "  )  "
   ]
  },
  {
   "cell_type": "markdown",
   "metadata": {},
   "source": [
    "# Ejecicios:"
   ]
  },
  {
   "cell_type": "markdown",
   "metadata": {},
   "source": [
    "## Ejecicio 01: Crea un Chat, que intercambie mensajes aleatorios entre dos personas. Cada persona debe tener 10 posibles mensajes de tipo string. Que debes de usar?"
   ]
  },
  {
   "cell_type": "markdown",
   "metadata": {},
   "source": [
    "## Ejecicio 02: Crea un bitacora de errores de web desde Hawkins: 404, 500, 502, 504 y más. Tu operacion debe simular un stack de n posibles errores."
   ]
  },
  {
   "cell_type": "code",
   "execution_count": null,
   "metadata": {},
   "outputs": [],
   "source": []
  }
 ],
 "metadata": {
  "kernelspec": {
   "display_name": "Clojure (clojupyter=0.3.2=1)",
   "language": "clojure",
   "name": "conda-clojupyter"
  },
  "language_info": {
   "file_extension": ".clj",
   "mimetype": "text/x-clojure",
   "name": "clojure",
   "version": "1.10.1"
  }
 },
 "nbformat": 4,
 "nbformat_minor": 4
}
