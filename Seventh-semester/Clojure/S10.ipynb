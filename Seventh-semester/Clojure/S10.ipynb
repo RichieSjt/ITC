{
 "cells": [
  {
   "cell_type": "markdown",
   "id": "e1a8f02d",
   "metadata": {},
   "source": [
    "**a)**"
   ]
  },
  {
   "cell_type": "code",
   "execution_count": 1,
   "id": "f925ed12",
   "metadata": {},
   "outputs": [
    {
     "data": {
      "text/plain": [
       "#'user/sumatoria-recursivo"
      ]
     },
     "execution_count": 1,
     "metadata": {},
     "output_type": "execute_result"
    }
   ],
   "source": [
    "(defn sumatoria-recursivo [n]\n",
    "    (if (= n 1)\n",
    "        2\n",
    "        (+' (* n (+ n 1)) (sumatoria-recursivo (- n 1)))\n",
    "    )\n",
    ")"
   ]
  },
  {
   "cell_type": "code",
   "execution_count": 2,
   "id": "20b431dd",
   "metadata": {},
   "outputs": [
    {
     "data": {
      "text/plain": [
       "70"
      ]
     },
     "execution_count": 2,
     "metadata": {},
     "output_type": "execute_result"
    }
   ],
   "source": [
    "(sumatoria-recursivo 5)"
   ]
  },
  {
   "cell_type": "markdown",
   "id": "5eb09a66",
   "metadata": {},
   "source": [
    "**b)**"
   ]
  },
  {
   "cell_type": "code",
   "execution_count": 3,
   "id": "8c1f3180",
   "metadata": {},
   "outputs": [
    {
     "data": {
      "text/plain": [
       "#'user/sumatoria-loop-recur"
      ]
     },
     "execution_count": 3,
     "metadata": {},
     "output_type": "execute_result"
    }
   ],
   "source": [
    "(defn sumatoria-loop-recur [n]\n",
    "    (loop [i n resultado 1]\n",
    "        (if (= i 0)\n",
    "            resultado\n",
    "            (recur\n",
    "                 (dec i)\n",
    "                 (+' resultado ((fn [e] (loop [temp 1 e e] (if (= e 0) temp (recur (* 2 temp) (dec e))))) i))\n",
    "             )\n",
    "        )\n",
    "    )\n",
    ")"
   ]
  },
  {
   "cell_type": "code",
   "execution_count": 4,
   "id": "33aab230",
   "metadata": {},
   "outputs": [
    {
     "data": {
      "text/plain": [
       "15"
      ]
     },
     "execution_count": 4,
     "metadata": {},
     "output_type": "execute_result"
    }
   ],
   "source": [
    "(sumatoria-loop-recur 3)"
   ]
  },
  {
   "cell_type": "markdown",
   "id": "ae5b2a2f",
   "metadata": {},
   "source": [
    "**c)**"
   ]
  },
  {
   "cell_type": "code",
   "execution_count": 5,
   "id": "cfeb74f5",
   "metadata": {},
   "outputs": [
    {
     "data": {
      "text/plain": [
       "#'user/sumatoria-thread"
      ]
     },
     "execution_count": 5,
     "metadata": {},
     "output_type": "execute_result"
    }
   ],
   "source": [
    "(defn sumatoria-thread [n]\n",
    "    (->> (+ n 1)\n",
    "        (range)\n",
    "        (map #(* % %))\n",
    "        (apply +)\n",
    "    )\n",
    ")"
   ]
  },
  {
   "cell_type": "code",
   "execution_count": 6,
   "id": "86755143",
   "metadata": {},
   "outputs": [
    {
     "data": {
      "text/plain": [
       "385"
      ]
     },
     "execution_count": 6,
     "metadata": {},
     "output_type": "execute_result"
    }
   ],
   "source": [
    "(sumatoria-thread 10)"
   ]
  },
  {
   "cell_type": "markdown",
   "id": "2358fe00",
   "metadata": {},
   "source": [
    "**d)**"
   ]
  },
  {
   "cell_type": "code",
   "execution_count": 7,
   "id": "8ab95ddc",
   "metadata": {},
   "outputs": [
    {
     "data": {
      "text/plain": [
       "#'user/sumatoria-thread-2"
      ]
     },
     "execution_count": 7,
     "metadata": {},
     "output_type": "execute_result"
    }
   ],
   "source": [
    "(defn sumatoria-thread-2 [n]\n",
    "    (->> (+ n 1)\n",
    "        (range)\n",
    "        (map #(/ % n))\n",
    "        (apply +)\n",
    "    )\n",
    ")"
   ]
  },
  {
   "cell_type": "code",
   "execution_count": 8,
   "id": "eb1ee104",
   "metadata": {},
   "outputs": [
    {
     "data": {
      "text/plain": [
       "11/2"
      ]
     },
     "execution_count": 8,
     "metadata": {},
     "output_type": "execute_result"
    }
   ],
   "source": [
    "(sumatoria-thread-2 10)"
   ]
  }
 ],
 "metadata": {
  "kernelspec": {
   "display_name": "Clojure (clojupyter=0.3.2=1)",
   "language": "clojure",
   "name": "conda-clojupyter"
  },
  "language_info": {
   "file_extension": ".clj",
   "mimetype": "text/x-clojure",
   "name": "clojure",
   "version": "1.10.1"
  }
 },
 "nbformat": 4,
 "nbformat_minor": 5
}
